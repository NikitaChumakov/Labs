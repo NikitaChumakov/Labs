{
  "metadata": {
    "language_info": {
      "codemirror_mode": {
        "name": "python",
        "version": 3
      },
      "file_extension": ".py",
      "mimetype": "text/x-python",
      "name": "python",
      "nbconvert_exporter": "python",
      "pygments_lexer": "ipython3",
      "version": "3.8"
    },
    "kernelspec": {
      "name": "python",
      "display_name": "Pyolite",
      "language": "python"
    }
  },
  "nbformat_minor": 4,
  "nbformat": 4,
  "cells": [
    {
      "cell_type": "markdown",
      "source": "# My Jupyter Notebook on IBM Watson Studio",
      "metadata": {}
    },
    {
      "cell_type": "markdown",
      "source": "**Nikita Chumakov**<br>My current position is Associate Director, Omnichannel Operations",
      "metadata": {}
    },
    {
      "cell_type": "markdown",
      "source": "*I am interested in learning data science to be able to solve complex problems as optimization of salesforce deployment or making predictions regarding next best action with regards of healthcare professionals engagements. These business problems are just too complex to be solved using traditional tools as Excel.*",
      "metadata": {}
    },
    {
      "cell_type": "markdown",
      "source": "### Code below will set variable A to 1 and variable B to 2 and will print the results of summation and multiplication of those variables.",
      "metadata": {}
    },
    {
      "cell_type": "code",
      "source": "A = 1\nB = 2\nprint(\"The result of A and B summation is:\", A+B)\nprint(\"The result of A and B multiplication is:\", A*B)",
      "metadata": {
        "trusted": true
      },
      "execution_count": 3,
      "outputs": [
        {
          "name": "stdout",
          "text": "The result of A and B summation is: 3\nThe result of A and B multiplication is: 2\n",
          "output_type": "stream"
        }
      ]
    },
    {
      "cell_type": "markdown",
      "source": "Example of horizontal rule:<br>\n***\n<br>\nExample of numbered list:<br>\n<ol>\n    <li>Numbered list item 1</li>\n    <li>Numbered list item 2</li>\n    <li>Numbered list item 3</li>\n</ol>\n<br>\nExample of bulleted list:<br>\n<ul>\n    <li>Bullet list item 1</li>\n    <li>Bullet list item 2</li>\n    <li>Bullet list item 3</li>\n</ul>\n<br>\nExample of a hyperlink<br>\n<a href=\"https://youtube.com\">Please click here to open YouTube main page</a> ",
      "metadata": {}
    },
    {
      "cell_type": "code",
      "source": "",
      "metadata": {},
      "execution_count": null,
      "outputs": []
    }
  ]
}